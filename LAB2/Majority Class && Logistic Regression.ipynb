{
 "cells": [
  {
   "cell_type": "code",
   "execution_count": 1,
   "metadata": {
    "collapsed": true
   },
   "outputs": [],
   "source": [
    "import numpy as np\n",
    "from sklearn import datasets\n",
    "from sklearn.base import ClassifierMixin\n",
    "from sklearn.neighbors.base import SupervisedIntegerMixin\n",
    "from sklearn.neighbors.base import NeighborsBase,KNeighborsMixin"
   ]
  },
  {
   "cell_type": "code",
   "execution_count": 2,
   "metadata": {
    "collapsed": true
   },
   "outputs": [],
   "source": [
    "breast_cancer = datasets.load_breast_cancer()\n",
    "breast_cancer_X = breast_cancer.data\n",
    "breast_cancer_y = breast_cancer.target"
   ]
  },
  {
   "cell_type": "code",
   "execution_count": 3,
   "metadata": {},
   "outputs": [
    {
     "name": "stdout",
     "output_type": "stream",
     "text": [
      "(569, 30)\n"
     ]
    }
   ],
   "source": [
    "print breast_cancer_X.shape"
   ]
  },
  {
   "cell_type": "code",
   "execution_count": 4,
   "metadata": {},
   "outputs": [
    {
     "name": "stdout",
     "output_type": "stream",
     "text": [
      "(569,)\n"
     ]
    },
    {
     "data": {
      "text/plain": [
       "array([0, 1])"
      ]
     },
     "execution_count": 4,
     "metadata": {},
     "output_type": "execute_result"
    }
   ],
   "source": [
    "print breast_cancer_y.shape\n",
    "np.unique(breast_cancer_y)"
   ]
  },
  {
   "cell_type": "code",
   "execution_count": 5,
   "metadata": {
    "collapsed": true
   },
   "outputs": [],
   "source": [
    "class Majority(SupervisedIntegerMixin, ClassifierMixin,NeighborsBase, KNeighborsMixin,):\n",
    "    \n",
    "    def __init__(self,estimators=None,voting='hard'):\n",
    "        self.voting=voting\n",
    "        self.result=None\n",
    "        self.estimators=estimators\n",
    "    \n",
    "    def fit(self,train_X,train_y):\n",
    "        unique_label,count_label = np.unique(train_y,return_counts=True)\n",
    "        max_index=np.argmax(count_label)\n",
    "        self.result=unique_label[max_index]\n",
    "    \n",
    "    def predict(self,X):\n",
    "        nb_element,nb_feature=X.shape\n",
    "        Y_predict = np.zeros(nb_element)\n",
    "        for i in range(0,nb_element):\n",
    "            Y_predict[i]=self.result\n",
    "        return Y_predict"
   ]
  },
  {
   "cell_type": "code",
   "execution_count": 6,
   "metadata": {
    "collapsed": true
   },
   "outputs": [],
   "source": [
    "breast_cancer_train_X = breast_cancer_X[:400]\n",
    "breast_cancer_train_y = breast_cancer_y[:400]\n",
    "breast_cancer_test_X = breast_cancer_X[400:]\n",
    "breast_cancer_test_y = breast_cancer_y[400:]"
   ]
  },
  {
   "cell_type": "code",
   "execution_count": 7,
   "metadata": {},
   "outputs": [
    {
     "name": "stdout",
     "output_type": "stream",
     "text": [
      "0.769230769231\n"
     ]
    }
   ],
   "source": [
    "mj = Majority()\n",
    "mj.fit(breast_cancer_train_X,breast_cancer_train_y)\n",
    "Y_predict=mj.predict(breast_cancer_test_X)\n",
    "number_element = breast_cancer_test_X.shape[0]\n",
    "acc=0.0\n",
    "for i in range(0,number_element):\n",
    "    if Y_predict[i]==breast_cancer_test_y[i]:\n",
    "        acc+=1\n",
    "acc=(acc/float(number_element))\n",
    "print acc"
   ]
  },
  {
   "cell_type": "code",
   "execution_count": 8,
   "metadata": {},
   "outputs": [
    {
     "data": {
      "text/plain": [
       "0.62742040285899936"
      ]
     },
     "execution_count": 8,
     "metadata": {},
     "output_type": "execute_result"
    }
   ],
   "source": [
    "from sklearn.model_selection import cross_val_score\n",
    "knn_score=cross_val_score(mj,breast_cancer_X,breast_cancer_y)\n",
    "knn_score.mean()"
   ]
  },
  {
   "cell_type": "code",
   "execution_count": 9,
   "metadata": {
    "collapsed": true
   },
   "outputs": [],
   "source": [
    "unique_label,count_label = np.unique(breast_cancer_y,return_counts=True)"
   ]
  },
  {
   "cell_type": "code",
   "execution_count": 10,
   "metadata": {},
   "outputs": [
    {
     "name": "stdout",
     "output_type": "stream",
     "text": [
      "[212 357]\n"
     ]
    }
   ],
   "source": [
    "print count_label"
   ]
  },
  {
   "cell_type": "markdown",
   "metadata": {},
   "source": [
    "Because in this case, we have 357 positive and 212 negative, so when we indenpended uniform to select a data, we could get 63% accuracy."
   ]
  },
  {
   "cell_type": "code",
   "execution_count": 11,
   "metadata": {
    "collapsed": true
   },
   "outputs": [],
   "source": [
    "from sklearn.linear_model.base import BaseEstimator,LinearClassifierMixin,SparseCoefMixin"
   ]
  },
  {
   "cell_type": "code",
   "execution_count": 12,
   "metadata": {
    "collapsed": true
   },
   "outputs": [],
   "source": [
    "def sigmoid(z):\n",
    "    return 1.0/(1.0+np.exp(-z))"
   ]
  },
  {
   "cell_type": "code",
   "execution_count": 24,
   "metadata": {
    "collapsed": true
   },
   "outputs": [],
   "source": [
    "class LRlinear(BaseEstimator,LinearClassifierMixin,SparseCoefMixin):\n",
    "    def __init__(self,alpha=0.1,maxiter=10000):\n",
    "        self.alpha=alpha\n",
    "        self.maxiter=maxiter\n",
    "        self.w=None\n",
    "        \n",
    "    def fit(self,X,y):\n",
    "        self.X_train = np.hstack(((np.ones((X.shape[0],1))),X))\n",
    "        self.m,self.n = self.X_train.shape\n",
    "        self.y_train = y.reshape((y.shape[0]),1)\n",
    "        self.w = np.ones((self.n,1))\n",
    "        \n",
    "        for k in range(self.maxiter):\n",
    "            hw=sigmoid(np.dot(self.X_train,self.w))\n",
    "            difference = self.y_train-hw\n",
    "            self.w = self.w+self.alpha*np.transpose(self.X_train).dot(difference)\n",
    "        \n",
    "    def predict(self,X):\n",
    "        X=np.hstack(((np.ones((X.shape[0],1))),X))\n",
    "        hw = sigmoid(np.dot(X,self.w))\n",
    "        Y_pre = np.zeros(len(X))\n",
    "        for i in range(len(X)):\n",
    "            if hw[i]>0.5:\n",
    "                Y_pre[i]=1\n",
    "            else:\n",
    "                Y_pre[i]=0\n",
    "        return Y_pre"
   ]
  },
  {
   "cell_type": "code",
   "execution_count": 27,
   "metadata": {},
   "outputs": [
    {
     "name": "stderr",
     "output_type": "stream",
     "text": [
      "/anaconda/lib/python2.7/site-packages/ipykernel/__main__.py:2: RuntimeWarning: overflow encountered in exp\n",
      "  from ipykernel import kernelapp as app\n"
     ]
    },
    {
     "name": "stdout",
     "output_type": "stream",
     "text": [
      "0.881656804734\n"
     ]
    }
   ],
   "source": [
    "LR = LRlinear()\n",
    "LR.fit(breast_cancer_train_X,breast_cancer_train_y)\n",
    "Y_predict=LR.predict(breast_cancer_test_X)\n",
    "number_element = breast_cancer_test_X.shape[0]\n",
    "acc=0.0\n",
    "for i in range(0,number_element):\n",
    "    if Y_predict[i]==breast_cancer_test_y[i]:\n",
    "        acc+=1\n",
    "acc=(acc/float(number_element))\n",
    "print acc"
   ]
  },
  {
   "cell_type": "code",
   "execution_count": 28,
   "metadata": {},
   "outputs": [
    {
     "name": "stderr",
     "output_type": "stream",
     "text": [
      "/anaconda/lib/python2.7/site-packages/ipykernel/__main__.py:2: RuntimeWarning: overflow encountered in exp\n",
      "  from ipykernel import kernelapp as app\n"
     ]
    },
    {
     "data": {
      "text/plain": [
       "0.91562238930659978"
      ]
     },
     "execution_count": 28,
     "metadata": {},
     "output_type": "execute_result"
    }
   ],
   "source": [
    "LR=LRlinear(alpha=0.1)\n",
    "LR_score=cross_val_score(LR,breast_cancer_X,breast_cancer_y)\n",
    "\n",
    "LR_score.mean()"
   ]
  },
  {
   "cell_type": "code",
   "execution_count": 15,
   "metadata": {},
   "outputs": [
    {
     "data": {
      "text/plain": [
       "0.94902069989789295"
      ]
     },
     "execution_count": 15,
     "metadata": {},
     "output_type": "execute_result"
    }
   ],
   "source": [
    "from sklearn.linear_model import LogisticRegression\n",
    "LRr = LogisticRegression()\n",
    "LRr_score=cross_val_score(LRr,breast_cancer_X,breast_cancer_y)\n",
    "\n",
    "LRr_score.mean()"
   ]
  },
  {
   "cell_type": "code",
   "execution_count": null,
   "metadata": {
    "collapsed": true
   },
   "outputs": [],
   "source": []
  }
 ],
 "metadata": {
  "kernelspec": {
   "display_name": "Python 2",
   "language": "python",
   "name": "python2"
  },
  "language_info": {
   "codemirror_mode": {
    "name": "ipython",
    "version": 2
   },
   "file_extension": ".py",
   "mimetype": "text/x-python",
   "name": "python",
   "nbconvert_exporter": "python",
   "pygments_lexer": "ipython2",
   "version": "2.7.12"
  }
 },
 "nbformat": 4,
 "nbformat_minor": 1
}
